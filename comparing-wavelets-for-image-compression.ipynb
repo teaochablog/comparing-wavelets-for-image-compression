{
 "cells": [
  {
   "cell_type": "code",
   "execution_count": null,
   "id": "518647c4-b7b7-4be5-bf4d-1de9a3fc98de",
   "metadata": {
    "tags": [
     "no_render"
    ]
   },
   "outputs": [],
   "source": [
    "%matplotlib inline\n",
    "\n",
    "import sys, os\n",
    "_utils_dir = os.path.join(os.path.abspath('.'), 'utils')\n",
    "if _utils_dir not in sys.path:\n",
    "    sys.path.insert(0, _utils_dir)"
   ]
  },
  {
   "cell_type": "code",
   "execution_count": null,
   "id": "72f0f84d-8986-4510-a11a-62149d555ab7",
   "metadata": {},
   "outputs": [],
   "source": [
    "import numpy as np\n",
    "import matplotlib.pyplot as plt\n",
    "\n",
    "# Personal utils to remove cognitive clutter.\n",
    "# (See 'https://github.com/teaochablog/comparing-wavelets-for-image-compression/utils')\n",
    "import blogutils\n",
    "blogutils.init_mpl(plt)"
   ]
  },
  {
   "cell_type": "markdown",
   "id": "7abb9588",
   "metadata": {},
   "source": [
    "Snippets for math and images:\n",
    "\n",
    "<figure class=\"nb-diagram\" align=\"center\"><img src=\"https://s.hdnux.com/photos/47/46/46/10381742/3/rawImage.jpg\" width=\"200px\"><figcaption>Figure 1: A plot. (Source: TeaochaDesign)</figcaption></figure>\n",
    "\n",
    "\\begin{equation}\n",
    "N=a+b\n",
    "\\tag{1}\n",
    "\\label{eq:1}\n",
    "\\end{equation}\n",
    "\n",
    "<aside class=\"definition\"><h4><span>Definition:</span> <span>Thing</span></h4><p>Definition of a thing</p></aside>\n",
    "\n",
    "\n",
    "<aside class=\"nb-primary-reference\"><p>Put reference info in here</p></aside>"
   ]
  },
  {
   "cell_type": "markdown",
   "id": "e18c0b6f",
   "metadata": {},
   "source": [
    "## Links\n",
    "\n",
    "<a class=\"github-link\" href=\"https://github.com/teaochablog/comparing-wavelets-for-image-compression\">View this notebook on GitHub</a>"
   ]
  }
 ],
 "metadata": {
  "citation-manager": {
   "items": {}
  },
  "kernelspec": {
   "display_name": "Python 3 (ipykernel)",
   "language": "python",
   "name": "python3"
  },
  "language_info": {
   "codemirror_mode": {
    "name": "ipython",
    "version": 3
   },
   "file_extension": ".py",
   "mimetype": "text/x-python",
   "name": "python",
   "nbconvert_exporter": "python",
   "pygments_lexer": "ipython3",
   "version": "3.8.8"
  },
  "vscode": {
   "interpreter": {
    "hash": "aee8b7b246df8f9039afb4144a1f6fd8d2ca17a180786b69acc140d282b71a49"
   }
  }
 },
 "nbformat": 4,
 "nbformat_minor": 5
}
